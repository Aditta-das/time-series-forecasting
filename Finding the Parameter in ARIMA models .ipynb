{
 "cells": [
  {
   "cell_type": "markdown",
   "metadata": {},
   "source": [
    "# Grid searching parameters\n",
    "\n",
    "https://machinelearningmastery.com/grid-search-arima-hyperparameters-with-python/"
   ]
  },
  {
   "cell_type": "code",
   "execution_count": 54,
   "metadata": {
    "collapsed": true
   },
   "outputs": [],
   "source": [
    "import pandas as pd\n",
    "from pandas import read_csv\n",
    "import numpy as np\n",
    "from datetime import datetime\n",
    "from pandas import Series\n",
    "from statsmodels.tsa.arima_model import ARIMA\n",
    "from sklearn.metrics import mean_squared_error\n",
    "import warnings\n",
    "warnings.filterwarnings(\"ignore\")"
   ]
  },
  {
   "cell_type": "code",
   "execution_count": 17,
   "metadata": {},
   "outputs": [
    {
     "data": {
      "text/html": [
       "<div>\n",
       "<style>\n",
       "    .dataframe thead tr:only-child th {\n",
       "        text-align: right;\n",
       "    }\n",
       "\n",
       "    .dataframe thead th {\n",
       "        text-align: left;\n",
       "    }\n",
       "\n",
       "    .dataframe tbody tr th {\n",
       "        vertical-align: top;\n",
       "    }\n",
       "</style>\n",
       "<table border=\"1\" class=\"dataframe\">\n",
       "  <thead>\n",
       "    <tr style=\"text-align: right;\">\n",
       "      <th></th>\n",
       "      <th>#Passengers</th>\n",
       "    </tr>\n",
       "    <tr>\n",
       "      <th>Month</th>\n",
       "      <th></th>\n",
       "    </tr>\n",
       "  </thead>\n",
       "  <tbody>\n",
       "    <tr>\n",
       "      <th>1949-01-01</th>\n",
       "      <td>112</td>\n",
       "    </tr>\n",
       "    <tr>\n",
       "      <th>1949-02-01</th>\n",
       "      <td>118</td>\n",
       "    </tr>\n",
       "    <tr>\n",
       "      <th>1949-03-01</th>\n",
       "      <td>132</td>\n",
       "    </tr>\n",
       "    <tr>\n",
       "      <th>1949-04-01</th>\n",
       "      <td>129</td>\n",
       "    </tr>\n",
       "    <tr>\n",
       "      <th>1949-05-01</th>\n",
       "      <td>121</td>\n",
       "    </tr>\n",
       "  </tbody>\n",
       "</table>\n",
       "</div>"
      ],
      "text/plain": [
       "            #Passengers\n",
       "Month                  \n",
       "1949-01-01          112\n",
       "1949-02-01          118\n",
       "1949-03-01          132\n",
       "1949-04-01          129\n",
       "1949-05-01          121"
      ]
     },
     "execution_count": 17,
     "metadata": {},
     "output_type": "execute_result"
    }
   ],
   "source": [
    "dateparse = lambda dates: pd.datetime.strptime(dates, '%Y-%m')\n",
    "data = pd.read_csv('AirPassengers.csv', parse_dates=['Month'], index_col='Month',date_parser=dateparse)\n",
    "data.head()"
   ]
  },
  {
   "cell_type": "code",
   "execution_count": null,
   "metadata": {
    "collapsed": true
   },
   "outputs": [],
   "source": [
    "series = Series.from_csv('female.csv', header=0)"
   ]
  },
  {
   "cell_type": "code",
   "execution_count": 47,
   "metadata": {},
   "outputs": [],
   "source": [
    "def evaluate_arima_model(X, arima_order):\n",
    "    # prepare training dataset\n",
    "    train_size = int(len(X) * 0.6)\n",
    "    train, test = X[0:train_size], X[train_size:]\n",
    "    # make predictions\n",
    "    predictions = list()\n",
    "    for t in range(len(test)):\n",
    "        model = ARIMA(train, order=arima_order)\n",
    "        model_fit = model.fit(disp=0)\n",
    "        yhat = model_fit.forecast()[0]\n",
    "        predictions.append(yhat)\n",
    "        history.append(test[t])\n",
    "    # calculate out of sample error\n",
    "    error = mean_squared_error(test, predictions)\n",
    "    return error"
   ]
  },
  {
   "cell_type": "code",
   "execution_count": 48,
   "metadata": {
    "collapsed": true
   },
   "outputs": [],
   "source": [
    "def evaluate_models(dataset, p_values, d_values, q_values):\n",
    "    best_score, best_cfg = float(\"inf\"), None\n",
    "    for p in p_values:\n",
    "        for d in d_values:\n",
    "            for q in q_values:\n",
    "                order = (p,d,q)\n",
    "                try:\n",
    "                    mse = evaluate_arima_model(dataset, order)\n",
    "                    if mse < best_score:\n",
    "                        best_score, best_cfg = mse, order\n",
    "                    print('ARIMA%s MSE=%.3f' % (order,mse))\n",
    "                except:\n",
    "                    continue\n",
    "    \n",
    "    print('Best ARIMA%s MSE=%.3f' % (best_cfg, best_score))"
   ]
  },
  {
   "cell_type": "code",
   "execution_count": null,
   "metadata": {
    "scrolled": true
   },
   "outputs": [
    {
     "name": "stdout",
     "output_type": "stream",
     "text": [
      "ARIMA(0, 0, 1) MSE=25133.501\n",
      "ARIMA(0, 0, 2) MSE=25134.743\n",
      "ARIMA(0, 2, 1) MSE=25373.931\n",
      "ARIMA(1, 0, 0) MSE=25134.076\n",
      "ARIMA(1, 0, 1) MSE=25130.871\n",
      "ARIMA(1, 1, 0) MSE=25152.276\n",
      "ARIMA(1, 1, 1) MSE=25082.364\n",
      "ARIMA(1, 2, 0) MSE=26410.756\n",
      "ARIMA(2, 0, 0) MSE=25129.512\n",
      "ARIMA(2, 0, 1) MSE=25166.351\n",
      "ARIMA(2, 0, 2) MSE=25166.598\n",
      "ARIMA(2, 1, 0) MSE=24944.143\n",
      "ARIMA(2, 1, 1) MSE=25080.179\n",
      "ARIMA(2, 1, 2) MSE=25089.076\n",
      "ARIMA(2, 2, 0) MSE=25440.994\n",
      "ARIMA(4, 0, 0) MSE=25175.662\n",
      "ARIMA(4, 0, 1) MSE=25175.730\n",
      "ARIMA(4, 0, 2) MSE=25191.390\n",
      "ARIMA(4, 1, 0) MSE=24999.991\n",
      "ARIMA(4, 1, 1) MSE=25123.560\n",
      "ARIMA(4, 1, 2) MSE=25123.255\n",
      "ARIMA(4, 2, 0) MSE=25037.831\n",
      "ARIMA(6, 0, 0) MSE=25175.147\n",
      "ARIMA(6, 0, 1) MSE=25174.439\n",
      "ARIMA(6, 0, 2) MSE=25098.459\n",
      "ARIMA(6, 1, 0) MSE=24980.744\n",
      "ARIMA(6, 1, 1) MSE=25122.230\n",
      "ARIMA(6, 1, 2) MSE=25121.217\n",
      "ARIMA(6, 2, 0) MSE=25050.394\n",
      "ARIMA(8, 0, 0) MSE=25130.959\n",
      "ARIMA(8, 0, 1) MSE=25129.310\n",
      "ARIMA(8, 0, 2) MSE=25134.888\n",
      "ARIMA(8, 1, 0) MSE=25017.830\n",
      "ARIMA(8, 1, 1) MSE=25086.290\n",
      "ARIMA(8, 1, 2) MSE=25084.694\n",
      "ARIMA(8, 2, 0) MSE=24991.834\n"
     ]
    }
   ],
   "source": [
    "p_values = [0, 1, 2, 4, 6, 8, 10]\n",
    "d_values = range(0, 3)\n",
    "q_values = range(0, 3)\n",
    "warnings.filterwarnings(\"ignore\")\n",
    "evaluate_models(series, p_values, d_values, q_values)"
   ]
  },
  {
   "cell_type": "code",
   "execution_count": 56,
   "metadata": {},
   "outputs": [],
   "source": []
  },
  {
   "cell_type": "code",
   "execution_count": null,
   "metadata": {},
   "outputs": [],
   "source": [
    "ARIMA(2, 1, 0) MSE=24944.143"
   ]
  }
 ],
 "metadata": {
  "kernelspec": {
   "display_name": "Python 3",
   "language": "python",
   "name": "python3"
  },
  "language_info": {
   "codemirror_mode": {
    "name": "ipython",
    "version": 3
   },
   "file_extension": ".py",
   "mimetype": "text/x-python",
   "name": "python",
   "nbconvert_exporter": "python",
   "pygments_lexer": "ipython3",
   "version": "3.6.3"
  }
 },
 "nbformat": 4,
 "nbformat_minor": 2
}
